{
  "nbformat": 4,
  "nbformat_minor": 0,
  "metadata": {
    "colab": {
      "name": "SearchingInASortedList-Colab.ipynb",
      "provenance": []
    },
    "kernelspec": {
      "name": "python3",
      "display_name": "Python 3"
    },
    "language_info": {
      "name": "python"
    }
  },
  "cells": [
    {
      "cell_type": "code",
      "source": [
        "import math\n",
        "import sympy as sp\n",
        "from time import time"
      ],
      "metadata": {
        "id": "a9FdFZ_Mqi9q"
      },
      "execution_count": 64,
      "outputs": []
    },
    {
      "cell_type": "code",
      "execution_count": 4,
      "metadata": {
        "id": "O5qKTuil3__U"
      },
      "outputs": [],
      "source": [
        "def CubeRoot(K):\n",
        "  i = 0\n",
        "  #current iteration\n",
        "  if K == 0:\n",
        "    return 0\n",
        "  if K < 0:\n",
        "    return -1 * CubeRoot(-1 * K)\n",
        "  else:\n",
        "    if K == 1:\n",
        "      return 1\n",
        "    else:\n",
        "      if K > 1:\n",
        "        a = 1\n",
        "        #lowerbound\n",
        "        b = K\n",
        "        #upperbound\n",
        "      if K < 1:\n",
        "        a = 0\n",
        "        #lowerbound\n",
        "        b = 1\n",
        "        #upperbound\n",
        "      while i <= 1000:\n",
        "        m = (a + b) / 2\n",
        "        #midpoint of a and b\n",
        "        if i == 1000:\n",
        "          return m\n",
        "        else:\n",
        "          i = i + 1\n",
        "          if m**3 < K:\n",
        "            a = m\n",
        "            #if the midpoint cubed is less than K redefine a \n",
        "          if m**3 > K:\n",
        "            b = m\n",
        "            #if the midpoint cubed is more than K redefine b\n",
        " "
      ]
    },
    {
      "cell_type": "code",
      "source": [
        "def binary_search(L, n):\n",
        "  min = 0\n",
        "  max = len(L) - 1\n",
        "  while max - min > 1:\n",
        "    if L[min] == n:\n",
        "      return min\n",
        "    if L[max] == n:\n",
        "      return max\n",
        "    else:\n",
        "      mid = int((min + max) / 2)\n",
        "      if L[mid] < n:\n",
        "        if min != mid:\n",
        "          min = mid\n",
        "      if L[mid] > n:\n",
        "        if max != mid:\n",
        "          max = mid\n",
        "      if L[mid] == n:\n",
        "        return mid\n",
        "  return -1\n"
      ],
      "metadata": {
        "id": "0VZK2xq9eF0-"
      },
      "execution_count": 54,
      "outputs": []
    },
    {
      "cell_type": "code",
      "source": [
        "def linear_search(L, n):\n",
        "  for i in range(len(L)):\n",
        "    if L[i] == n:\n",
        "      return i\n",
        "  return -1"
      ],
      "metadata": {
        "id": "eR4SpA3NxgqS"
      },
      "execution_count": 57,
      "outputs": []
    },
    {
      "cell_type": "code",
      "source": [
        "P = list(sp.primerange(1,1000000))"
      ],
      "metadata": {
        "id": "7ZOLCfjLpk-m"
      },
      "execution_count": 68,
      "outputs": []
    },
    {
      "cell_type": "code",
      "source": [
        "t = time()\n",
        "print(binary_search(P, 823))\n",
        "print(\"Time took: \", time() - t)\n",
        "print(linear_search(P, 823))\n",
        "print(\"Time took: \", time() - t)"
      ],
      "metadata": {
        "colab": {
          "base_uri": "https://localhost:8080/"
        },
        "id": "79Ww2nuQyyZb",
        "outputId": "7eae416f-d20d-42a6-ba94-9e61d78c6f4f"
      },
      "execution_count": 69,
      "outputs": [
        {
          "output_type": "stream",
          "name": "stdout",
          "text": [
            "142\n",
            "Time took:  0.0006406307220458984\n",
            "142\n",
            "Time took:  0.0008859634399414062\n"
          ]
        }
      ]
    },
    {
      "cell_type": "code",
      "source": [
        "t = time()\n",
        "print(binary_search(P, 2))\n",
        "print(\"Time took: \", time() - t)\n",
        "print(linear_search(P, 2))\n",
        "print(\"Time took: \", time() - t)"
      ],
      "metadata": {
        "colab": {
          "base_uri": "https://localhost:8080/"
        },
        "id": "hZzbmDEHzFxF",
        "outputId": "fee60249-a34d-406e-eff3-854ae33147ae"
      },
      "execution_count": 70,
      "outputs": [
        {
          "output_type": "stream",
          "name": "stdout",
          "text": [
            "0\n",
            "Time took:  0.00022673606872558594\n",
            "0\n",
            "Time took:  0.00041747093200683594\n"
          ]
        }
      ]
    },
    {
      "cell_type": "code",
      "source": [
        "t = time()\n",
        "print(binary_search(P, 191))\n",
        "print(\"Time took: \", time() - t)\n",
        "print(linear_search(P, 191))\n",
        "print(\"Time took: \", time() - t)"
      ],
      "metadata": {
        "colab": {
          "base_uri": "https://localhost:8080/"
        },
        "id": "RAxwKWPa07H4",
        "outputId": "8caf3610-9867-4023-a212-3829cc08fa62"
      },
      "execution_count": 71,
      "outputs": [
        {
          "output_type": "stream",
          "name": "stdout",
          "text": [
            "42\n",
            "Time took:  0.0020482540130615234\n",
            "42\n",
            "Time took:  0.003282308578491211\n"
          ]
        }
      ]
    },
    {
      "cell_type": "code",
      "source": [
        "t = time()\n",
        "print(binary_search(P, 713))\n",
        "print(\"Time took: \", time() - t)\n",
        "print(linear_search(P, 713))\n",
        "print(\"Time took: \", time() - t)"
      ],
      "metadata": {
        "colab": {
          "base_uri": "https://localhost:8080/"
        },
        "id": "PtYwP6jP1FNH",
        "outputId": "58607bfd-fb29-46b1-9228-4a8921c425e1"
      },
      "execution_count": 72,
      "outputs": [
        {
          "output_type": "stream",
          "name": "stdout",
          "text": [
            "-1\n",
            "Time took:  0.007508754730224609\n",
            "-1\n",
            "Time took:  0.01871037483215332\n"
          ]
        }
      ]
    },
    {
      "cell_type": "code",
      "source": [
        "t = time()\n",
        "print(binary_search(P, 1000))\n",
        "print(\"Time took: \", time() - t)\n",
        "print(linear_search(P, 1000))\n",
        "print(\"Time took: \", time() - t)"
      ],
      "metadata": {
        "colab": {
          "base_uri": "https://localhost:8080/"
        },
        "id": "Ge7j77oe1SJB",
        "outputId": "c08cfe06-cdeb-412e-f802-25b4a1c5c15c"
      },
      "execution_count": 73,
      "outputs": [
        {
          "output_type": "stream",
          "name": "stdout",
          "text": [
            "-1\n",
            "Time took:  0.0009691715240478516\n",
            "-1\n",
            "Time took:  0.011191844940185547\n"
          ]
        }
      ]
    },
    {
      "cell_type": "code",
      "source": [
        "t = time()\n",
        "print(binary_search(P, 2))\n",
        "print(\"Time took: \", time() - t)\n",
        "print(linear_search(P, 2))\n",
        "print(\"Time took: \", time() - t)"
      ],
      "metadata": {
        "colab": {
          "base_uri": "https://localhost:8080/"
        },
        "id": "mivDZRiE1VIF",
        "outputId": "8f24369d-be11-4807-bd12-0ab1ab8c3449"
      },
      "execution_count": 74,
      "outputs": [
        {
          "output_type": "stream",
          "name": "stdout",
          "text": [
            "0\n",
            "Time took:  0.0020067691802978516\n",
            "0\n",
            "Time took:  0.0033605098724365234\n"
          ]
        }
      ]
    },
    {
      "cell_type": "code",
      "source": [
        "t = time()\n",
        "print(binary_search(P, 9999991))\n",
        "print(\"Time took: \", time() - t)\n",
        "print(linear_search(P, 9999991))\n",
        "print(\"Time took: \", time() - t)"
      ],
      "metadata": {
        "colab": {
          "base_uri": "https://localhost:8080/"
        },
        "id": "qwVUF53Y1X6w",
        "outputId": "f96f2710-13c8-40a8-e566-009f93373590"
      },
      "execution_count": 75,
      "outputs": [
        {
          "output_type": "stream",
          "name": "stdout",
          "text": [
            "-1\n",
            "Time took:  0.0016980171203613281\n",
            "-1\n",
            "Time took:  0.015448808670043945\n"
          ]
        }
      ]
    },
    {
      "cell_type": "code",
      "source": [
        "t = time()\n",
        "print(binary_search(P, 524287))\n",
        "print(\"Time took: \", time() - t)\n",
        "print(linear_search(P, 524287))\n",
        "print(\"Time took: \", time() - t)"
      ],
      "metadata": {
        "colab": {
          "base_uri": "https://localhost:8080/"
        },
        "id": "_7S4ZHKE1ah4",
        "outputId": "d5a1bb1c-ff5c-4e83-a10b-a22d41d960db"
      },
      "execution_count": 76,
      "outputs": [
        {
          "output_type": "stream",
          "name": "stdout",
          "text": [
            "43389\n",
            "Time took:  0.0011370182037353516\n",
            "43389\n",
            "Time took:  0.008741140365600586\n"
          ]
        }
      ]
    },
    {
      "cell_type": "code",
      "source": [
        "t = time()\n",
        "print(binary_search(P, 1632913))\n",
        "print(\"Time took: \", time() - t)\n",
        "print(linear_search(P, 1632913))\n",
        "print(\"Time took: \", time() - t)"
      ],
      "metadata": {
        "colab": {
          "base_uri": "https://localhost:8080/"
        },
        "id": "b3RGQH251eBm",
        "outputId": "41ce5b1d-fa21-4197-ce5c-7525d301b15d"
      },
      "execution_count": 77,
      "outputs": [
        {
          "output_type": "stream",
          "name": "stdout",
          "text": [
            "-1\n",
            "Time took:  0.0019638538360595703\n",
            "-1\n",
            "Time took:  0.014943122863769531\n"
          ]
        }
      ]
    },
    {
      "cell_type": "code",
      "source": [
        "t = time()\n",
        "print(binary_search(P, 1234567))\n",
        "print(\"Time took: \", time() - t)\n",
        "print(linear_search(P, 1234567))\n",
        "print(\"Time took: \", time() - t)"
      ],
      "metadata": {
        "colab": {
          "base_uri": "https://localhost:8080/"
        },
        "id": "46lDk3kv1gqP",
        "outputId": "42905080-578f-4614-e27b-44f1963544e3"
      },
      "execution_count": 78,
      "outputs": [
        {
          "output_type": "stream",
          "name": "stdout",
          "text": [
            "-1\n",
            "Time took:  0.0015671253204345703\n",
            "-1\n",
            "Time took:  0.009253263473510742\n"
          ]
        }
      ]
    },
    {
      "cell_type": "code",
      "source": [
        "t = time()\n",
        "print(binary_search(P, 10000000))\n",
        "print(\"Time took: \", time() - t)\n",
        "print(linear_search(P, 10000000))\n",
        "print(\"Time took: \", time() - t)"
      ],
      "metadata": {
        "colab": {
          "base_uri": "https://localhost:8080/"
        },
        "id": "Mdgu-gs71i_l",
        "outputId": "93ee0c78-29eb-49e4-c3e5-298a5aac0a85"
      },
      "execution_count": 79,
      "outputs": [
        {
          "output_type": "stream",
          "name": "stdout",
          "text": [
            "-1\n",
            "Time took:  0.000904083251953125\n",
            "-1\n",
            "Time took:  0.018314599990844727\n"
          ]
        }
      ]
    },
    {
      "cell_type": "code",
      "source": [
        "t = time()\n",
        "print(binary_search(P, 1))\n",
        "print(\"Time took: \", time() - t)\n",
        "print(linear_search(P, 1))\n",
        "print(\"Time took: \", time() - t)"
      ],
      "metadata": {
        "colab": {
          "base_uri": "https://localhost:8080/"
        },
        "id": "f3uUR38k1lUQ",
        "outputId": "38533f19-54a9-4bea-e24e-0d1916ee6c18"
      },
      "execution_count": 80,
      "outputs": [
        {
          "output_type": "stream",
          "name": "stdout",
          "text": [
            "-1\n",
            "Time took:  0.0019092559814453125\n",
            "-1\n",
            "Time took:  0.01410365104675293\n"
          ]
        }
      ]
    },
    {
      "cell_type": "code",
      "source": [
        "t = time()\n",
        "print(binary_search(P, 512))\n",
        "print(\"Time took: \", time() - t)\n",
        "print(linear_search(P, 512))\n",
        "print(\"Time took: \", time() - t)"
      ],
      "metadata": {
        "colab": {
          "base_uri": "https://localhost:8080/"
        },
        "id": "xZXy_7u91pb3",
        "outputId": "a6a6372d-8227-43be-f38c-673c408ab08a"
      },
      "execution_count": 81,
      "outputs": [
        {
          "output_type": "stream",
          "name": "stdout",
          "text": [
            "-1\n",
            "Time took:  0.0012755393981933594\n",
            "-1\n",
            "Time took:  0.015327692031860352\n"
          ]
        }
      ]
    },
    {
      "cell_type": "code",
      "source": [
        "#According to my tests and code the binary search is faster in every instance given by these test cases"
      ],
      "metadata": {
        "id": "nBIUAzh-3ZEn"
      },
      "execution_count": null,
      "outputs": []
    }
  ]
}