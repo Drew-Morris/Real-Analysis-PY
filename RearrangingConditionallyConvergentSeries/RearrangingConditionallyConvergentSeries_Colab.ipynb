{
  "nbformat": 4,
  "nbformat_minor": 0,
  "metadata": {
    "colab": {
      "name": "RearrangingConditionallyConvergentSeries-Colab.ipynb",
      "provenance": []
    },
    "kernelspec": {
      "name": "python3",
      "display_name": "Python 3"
    },
    "language_info": {
      "name": "python"
    }
  },
  "cells": [
    {
      "cell_type": "code",
      "execution_count": 15,
      "metadata": {
        "id": "swZcefoc_ZGY"
      },
      "outputs": [],
      "source": [
        "import math\n",
        "import sympy as sp\n",
        "import numpy as np\n",
        "from matplotlib import pyplot as plt"
      ]
    },
    {
      "cell_type": "code",
      "source": [
        "target = 0\n",
        "current = 0\n",
        "x = sp.symbols('x')\n",
        "pos_seq = lambda x : 1 / (2*x + 1)\n",
        "neg_seq = lambda x : -1 / (2*x)\n",
        "pos_ind = 0\n",
        "neg_ind = 1\n",
        "rearrangement = []\n",
        "while (pos_ind + neg_ind) <= 101:\n",
        "  if current < target:\n",
        "    current += pos_seq(pos_ind)\n",
        "    rearrangement += [pos_seq(pos_ind)]\n",
        "    pos_ind += 1\n",
        "  else:\n",
        "    current += neg_seq(neg_ind)\n",
        "    rearrangement += [neg_seq(neg_ind)]\n",
        "    neg_ind += 1\n",
        "abs(current - target)\n",
        "\n",
        "#at the end of this process we are at a distance of about 0.01475 from 0"
      ],
      "metadata": {
        "id": "VkB7CZPHA9zX",
        "colab": {
          "base_uri": "https://localhost:8080/"
        },
        "outputId": "ad9129bf-5c00-4dd6-832a-54fbbb0aefcc"
      },
      "execution_count": 11,
      "outputs": [
        {
          "output_type": "execute_result",
          "data": {
            "text/plain": [
              "0.021323814794215756"
            ]
          },
          "metadata": {},
          "execution_count": 11
        }
      ]
    },
    {
      "cell_type": "code",
      "source": [
        "X = np.linspace(0,100,101)\n",
        "A = []\n",
        "sum = 0\n",
        "for i in range(101):\n",
        "  if i % 2 == 0:\n",
        "    sum += pos_seq(i)\n",
        "    A += [sum]\n",
        "  elif i % 2 == 1:\n",
        "    sum += neg_seq(i)\n",
        "    A += [sum]\n",
        "plt.plot(X,A, 'k.', label=\"Original Series\")\n",
        "plt.plot(X, rearrangement, 'r.', label=\"Rearrangement\")\n",
        "plt.legend()\n",
        "plt.show()"
      ],
      "metadata": {
        "colab": {
          "base_uri": "https://localhost:8080/",
          "height": 265
        },
        "id": "eYjooxBBaX12",
        "outputId": "9d9e4ff2-e207-4b2c-d04d-157d60aff9d1"
      },
      "execution_count": 13,
      "outputs": [
        {
          "output_type": "display_data",
          "data": {
            "text/plain": [
              "<Figure size 432x288 with 1 Axes>"
            ],
            "image/png": "[encoded data removed]"
          },
          "metadata": {
            "needs_background": "light"
          }
        }
      ]
    },
    {
      "cell_type": "code",
      "source": [
        "def rearrange_sequence(A, target):\n",
        "  N = len(A)\n",
        "  a = 0\n",
        "  b = 0\n",
        "  end_current_value = 0\n",
        "  rearranged_end_sequence = []\n",
        "  while a < N and b < N:\n",
        "    if end_current_value > target:\n",
        "      if A[a] < 0:\n",
        "        rearranged_end_sequence += [A[a]]\n",
        "        end_current_value += A[a]\n",
        "        a += 1\n",
        "      else:\n",
        "        a += 1\n",
        "    else:\n",
        "      if A[b] > 0:\n",
        "        rearranged_end_sequence += [A[b]]\n",
        "        end_current_value += A[b]\n",
        "        b += 1\n",
        "      else:\n",
        "        b += 1\n",
        "  return [end_current_value, rearranged_end_sequence]"
      ],
      "metadata": {
        "id": "ywHVX9o-fme9"
      },
      "execution_count": 14,
      "outputs": []
    },
    {
      "cell_type": "code",
      "source": [
        "def series_constructor(a):\n",
        "  A = []\n",
        "  sum = 0\n",
        "  for i in range(len(a)):\n",
        "    sum += a[i]\n",
        "    A += [sum]\n",
        "  return A\n",
        "  #This functions inputs a sequence as a list and exports its corresponding series"
      ],
      "metadata": {
        "id": "Olko2fdfisco"
      },
      "execution_count": 16,
      "outputs": []
    },
    {
      "cell_type": "code",
      "source": [
        "x = sp.symbols('x')\n",
        "b = lambda x : ((-1)**x * math.log10(x)) / x\n",
        "B = []\n",
        "for i in range(2, 102):\n",
        "  B += [b(i)]\n",
        "L0 = 0\n",
        "L1 = 5\n",
        "L2 = -5\n",
        "L3 = -0.159869\n",
        "r0 = rearrange_sequence(B, L0)[1]\n",
        "r1 = rearrange_sequence(B, L1)[1]\n",
        "r2 = rearrange_sequence(B, L2)[1]\n",
        "r3 = rearrange_sequence(B, L3)[1]\n",
        "R0 = series_constructor(r0)\n",
        "R1 = series_constructor(r1)\n",
        "R2 = series_constructor(r2)\n",
        "R3 = series_constructor(r3)"
      ],
      "metadata": {
        "id": "s2fa6rdWit2Q"
      },
      "execution_count": 18,
      "outputs": []
    },
    {
      "cell_type": "code",
      "source": [
        "x = np.linspace(2, 101, 100)\n",
        "x0 = np.linspace(2, len(R0) + 1, len(R0))\n",
        "x1 = np.linspace(2, len(R1) + 1, len(R1))\n",
        "plt.plot(x, B, 'k.', label=\"Original Series\")\n",
        "plt.plot(x0, R0, 'r.', label=\"Rearrangement with L=0\")\n",
        "plt.plot(x1, R1, 'c.', label=\"Rearrangement with L=5\")\n",
        "plt.legend()\n",
        "plt.show()"
      ],
      "metadata": {
        "colab": {
          "base_uri": "https://localhost:8080/",
          "height": 265
        },
        "id": "Dn0xmBc8jwJZ",
        "outputId": "a3269871-c694-4347-ca23-b91087cfa1da"
      },
      "execution_count": 20,
      "outputs": [
        {
          "output_type": "display_data",
          "data": {
            "text/plain": [
              "<Figure size 432x288 with 1 Axes>"
            ],
            "image/png": "[encoded data removed]"
          },
          "metadata": {
            "needs_background": "light"
          }
        }
      ]
    },
    {
      "cell_type": "code",
      "source": [
        "x = sp.symbols('x')\n",
        "B = []\n",
        "for i in range(2, 1002):\n",
        "  B += [b(i)]\n",
        "L0 = 0\n",
        "L1 = 5\n",
        "L2 = -5\n",
        "L3 = -0.159869\n",
        "r0 = rearrange_sequence(B, L0)[1]\n",
        "r1 = rearrange_sequence(B, L1)[1]\n",
        "r2 = rearrange_sequence(B, L2)[1]\n",
        "r3 = rearrange_sequence(B, L3)[1]\n",
        "R0 = series_constructor(r0)\n",
        "R1 = series_constructor(r1)\n",
        "R2 = series_constructor(r2)\n",
        "R3 = series_constructor(r3)\n",
        "x = np.linspace(2, 1001, 1000)\n",
        "x0 = np.linspace(2, len(R0) + 1, len(R0))\n",
        "x1 = np.linspace(2, len(R1) + 1, len(R1))\n",
        "x2 = np.linspace(2, len(R2) + 1, len(R2))\n",
        "x3 = np.linspace(2, len(R3) + 1, len(R3))\n",
        "plt.plot(x, B, 'k.', label=\"Original Series\")\n",
        "plt.plot(x0, R0, 'r.', label=\"Rearrangement with L=0\")\n",
        "plt.plot(x1, R1, 'c.', label=\"Rearrangement with L=5\")\n",
        "plt.plot(x2, R2, 'g.', label=\"Rearrangement with L=-5\")\n",
        "plt.plot(x3, R3, 'm.', label=\"Rearrangement with L=-0.159869\")\n",
        "plt.legend()\n",
        "plt.show()\n",
        "\n",
        "#We can see that the more terms we allow ourselves to use\n",
        "#Directly correlates with how close we can get to our target value"
      ],
      "metadata": {
        "colab": {
          "base_uri": "https://localhost:8080/",
          "height": 265
        },
        "id": "Z3ljclBemPYO",
        "outputId": "c3d64af1-a7c4-4563-950e-7b5abf71b55b"
      },
      "execution_count": 24,
      "outputs": [
        {
          "output_type": "display_data",
          "data": {
            "text/plain": [
              "<Figure size 432x288 with 1 Axes>"
            ],
            "image/png": "[encoded data removed]"
          },
          "metadata": {
            "needs_background": "light"
          }
        }
      ]
    },
    {
      "cell_type": "code",
      "source": [
        "def rearrangement_accuracy(A, target):\n",
        "  N = len(A)\n",
        "  a = 0\n",
        "  b = 0\n",
        "  end_current_value = 0\n",
        "  while a < N and b < N:\n",
        "    if end_current_value > target:\n",
        "      if A[a] < 0:\n",
        "        end_current_value += A[a]\n",
        "        a += 1\n",
        "      else:\n",
        "        a += 1\n",
        "    else:\n",
        "      if A[b] > 0:\n",
        "        end_current_value += A[b]\n",
        "        b += 1\n",
        "      else:\n",
        "        b += 1\n",
        "  return abs(target - end_current_value)"
      ],
      "metadata": {
        "id": "klJ0McK_qfdx"
      },
      "execution_count": 29,
      "outputs": []
    },
    {
      "cell_type": "code",
      "source": [
        "#The term number limit I am using is the \n",
        "#Maximum number of terms my computer can generate in 0s of runtime\n",
        "#This happens to be 1000000\n",
        "#The degree of Error I am using is 1\n",
        "#Meaning the maximum limit we can \"successfully\" reach\n",
        "#Is the largest L such that we can get within 0.1 of L\n",
        "#using a rearragement of the first 1000000 terms of our sequence\n",
        "#I will also test the largest negative\n",
        "#And I will see how close we can get to 0\n",
        "#To conserve time I will not be plotting these\n",
        "#Furthermore I will be using a new function that does not construct\n",
        "#Or return the sequence, instead only returning the end_current_value\n",
        "x = sp.symbols('x')\n",
        "B = []\n",
        "for i in range(2, 1000002):\n",
        "  B += [b(i)]\n",
        "Lmax = 21 + (47/64)\n",
        "L0 = 0\n",
        "Lmin = -21 - (43/64)\n",
        "x = np.linspace(2, 10000001, 10000000)\n",
        "MaxAcc = rearrangement_accuracy(B, Lmax)\n",
        "OAcc = rearrangement_accuracy(B, L0)\n",
        "MinAcc = rearrangement_accuracy(B, Lmin)\n",
        "print(MaxAcc)\n",
        "print(OAcc)\n",
        "print(MinAcc)\n",
        "#Even with my optimizations, these are the largest positive and negative numbers\n",
        "#My computer can get within 1 of within the first 1000000 terms of our sequence"
      ],
      "metadata": {
        "colab": {
          "base_uri": "https://localhost:8080/"
        },
        "id": "XUgXafMyninq",
        "outputId": "cdc5768e-b5e6-4f44-842f-dbcd00f72c4a"
      },
      "execution_count": 75,
      "outputs": [
        {
          "output_type": "stream",
          "name": "stdout",
          "text": [
            "0.9922028316371083\n",
            "1.0566906109965283e-06\n",
            "0.9991300143647166\n"
          ]
        }
      ]
    }
  ]
}