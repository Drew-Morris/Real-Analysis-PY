{
  "nbformat": 4,
  "nbformat_minor": 0,
  "metadata": {
    "colab": {
      "name": "DecimalApproximation-Colab.ipynb",
      "provenance": []
    },
    "kernelspec": {
      "name": "python3",
      "display_name": "Python 3"
    },
    "language_info": {
      "name": "python"
    }
  },
  "cells": [
    {
      "cell_type": "code",
      "source": [
        "import math\n",
        "import numpy as np"
      ],
      "metadata": {
        "id": "AaT_R8Qj9rmR"
      },
      "execution_count": 2,
      "outputs": []
    },
    {
      "cell_type": "code",
      "execution_count": 9,
      "metadata": {
        "id": "BA7CNjmC5NAQ"
      },
      "outputs": [],
      "source": [
        "def to_base_b_int(b, n):\n",
        "  assert n >= 0 & n%1 == 0, \"n must be a non-negative integer\"\n",
        "  baseList = []\n",
        "  currPow = int(math.log(n, b))\n",
        "  while n > 0 & currPow >= 0:\n",
        "    x = n // (b**currPow)\n",
        "    baseList += [x]\n",
        "    y = x*b**currPow\n",
        "    currPow -= 1\n",
        "    n -= y\n",
        "  return baseList"
      ]
    },
    {
      "cell_type": "code",
      "source": [
        "print(to_base_b_int(5, 123))\n",
        "print(to_base_b_int(5, 495))\n",
        "print(to_base_b_int(5, 31415926))\n",
        "#base 5 representations"
      ],
      "metadata": {
        "colab": {
          "base_uri": "https://localhost:8080/"
        },
        "id": "VnF8HLBw9uyc",
        "outputId": "3886eb53-57e0-45ff-870a-63a93e4e9254"
      },
      "execution_count": 25,
      "outputs": [
        {
          "output_type": "stream",
          "name": "stdout",
          "text": [
            "[4, 4, 3]\n",
            "[3, 4, 4]\n",
            "[3, 1, 0, 2, 0, 3, 0, 2, 2, 0, 1]\n"
          ]
        }
      ]
    },
    {
      "cell_type": "code",
      "source": [
        "print(to_base_b_int(7, 123))\n",
        "print(to_base_b_int(7, 495))\n",
        "print(to_base_b_int(7, 31415926))\n",
        "#base 7 representations"
      ],
      "metadata": {
        "colab": {
          "base_uri": "https://localhost:8080/"
        },
        "id": "z77F-dpl-iNq",
        "outputId": "d7cd0502-7e87-42fe-f38f-f0cf479ea3ea"
      },
      "execution_count": 26,
      "outputs": [
        {
          "output_type": "stream",
          "name": "stdout",
          "text": [
            "[2, 3, 4]\n",
            "[1, 3, 0, 5]\n",
            "[5, 3, 1, 0, 1, 3, 4, 2, 3]\n"
          ]
        }
      ]
    },
    {
      "cell_type": "code",
      "source": [
        "def to_base_b(b, n):\n",
        "  baseList = []\n",
        "  currPow = int(math.log(abs(n), b))\n",
        "  while abs(n) > 0:\n",
        "    x = n // b**currPow\n",
        "    y = x*b**currPow\n",
        "    baseList += [x]\n",
        "    currPow -= 1\n",
        "    n -= y\n",
        "  return baseList"
      ],
      "metadata": {
        "id": "bmib_RfYFg3b"
      },
      "execution_count": 31,
      "outputs": []
    },
    {
      "cell_type": "code",
      "source": [
        "print(to_base_b(8, 1/2))\n",
        "print(to_base_b(8, -2))"
      ],
      "metadata": {
        "colab": {
          "base_uri": "https://localhost:8080/"
        },
        "id": "Bf94UPCwFmc6",
        "outputId": "3560cd6b-a622-4401-ad03-b5c4d065a82c"
      },
      "execution_count": 32,
      "outputs": [
        {
          "output_type": "stream",
          "name": "stdout",
          "text": [
            "[0.0, 4.0]\n",
            "[-2]\n"
          ]
        }
      ]
    },
    {
      "cell_type": "code",
      "source": [
        "def to_base_b_frac(b, x):\n",
        "  assert 0 <= x < 1, \"x must be in the interval [0,1)\"\n",
        "  digList = []\n",
        "  y = 0\n",
        "  for i in range(1,9):\n",
        "    for j in range(b):\n",
        "      if (y+j)/b**i <= x < (y+j+1)/b**i:\n",
        "        digList += [j]\n",
        "        y += j\n",
        "        y *= b\n",
        "        break\n",
        "  return digList"
      ],
      "metadata": {
        "id": "7MMA-THfZ6kN"
      },
      "execution_count": 1,
      "outputs": []
    },
    {
      "cell_type": "code",
      "source": [
        "print(to_base_b_frac(3, 1/4))\n",
        "print(to_base_b_frac(3, 8/13))"
      ],
      "metadata": {
        "colab": {
          "base_uri": "https://localhost:8080/"
        },
        "id": "9gB4JmqpeXbk",
        "outputId": "ba61506b-9c0f-4008-efed-537c40729806"
      },
      "execution_count": 3,
      "outputs": [
        {
          "output_type": "stream",
          "name": "stdout",
          "text": [
            "[0, 2, 0, 2, 0, 2, 0, 2]\n",
            "[1, 2, 1, 1, 2, 1, 1, 2]\n"
          ]
        }
      ]
    },
    {
      "cell_type": "code",
      "source": [
        "print(to_base_b_frac(4, 3/7))\n",
        "print(to_base_b_frac(4, 19/21))"
      ],
      "metadata": {
        "colab": {
          "base_uri": "https://localhost:8080/"
        },
        "id": "11M7VmhVfmGn",
        "outputId": "01141f19-d5db-4a53-df7a-fedd7c914bfe"
      },
      "execution_count": 4,
      "outputs": [
        {
          "output_type": "stream",
          "name": "stdout",
          "text": [
            "[1, 2, 3, 1, 2, 3, 1, 2]\n",
            "[3, 2, 1, 3, 2, 1, 3, 2]\n"
          ]
        }
      ]
    },
    {
      "cell_type": "code",
      "source": [
        "print(to_base_b_frac(5, 1))\n",
        "print(to_base_b_frac(5, 5/4))\n",
        "print(to_base_b_frac(5, -1/2))"
      ],
      "metadata": {
        "colab": {
          "base_uri": "https://localhost:8080/",
          "height": 317
        },
        "id": "rijPToGrfppY",
        "outputId": "f551f334-ad8b-497c-84ea-15fc94a24c51"
      },
      "execution_count": 5,
      "outputs": [
        {
          "output_type": "error",
          "ename": "AssertionError",
          "evalue": "ignored",
          "traceback": [
            "\u001b[0;31m---------------------------------------------------------------------------\u001b[0m",
            "\u001b[0;31mAssertionError\u001b[0m                            Traceback (most recent call last)",
            "\u001b[0;32m<ipython-input-5-0b9179abcf78>\u001b[0m in \u001b[0;36m<module>\u001b[0;34m()\u001b[0m\n\u001b[0;32m----> 1\u001b[0;31m \u001b[0mprint\u001b[0m\u001b[0;34m(\u001b[0m\u001b[0mto_base_b_frac\u001b[0m\u001b[0;34m(\u001b[0m\u001b[0;36m5\u001b[0m\u001b[0;34m,\u001b[0m \u001b[0;36m1\u001b[0m\u001b[0;34m)\u001b[0m\u001b[0;34m)\u001b[0m\u001b[0;34m\u001b[0m\u001b[0;34m\u001b[0m\u001b[0m\n\u001b[0m\u001b[1;32m      2\u001b[0m \u001b[0mprint\u001b[0m\u001b[0;34m(\u001b[0m\u001b[0mto_base_b_frac\u001b[0m\u001b[0;34m(\u001b[0m\u001b[0;36m5\u001b[0m\u001b[0;34m,\u001b[0m \u001b[0;36m5\u001b[0m\u001b[0;34m/\u001b[0m\u001b[0;36m4\u001b[0m\u001b[0;34m)\u001b[0m\u001b[0;34m)\u001b[0m\u001b[0;34m\u001b[0m\u001b[0;34m\u001b[0m\u001b[0m\n\u001b[1;32m      3\u001b[0m \u001b[0mprint\u001b[0m\u001b[0;34m(\u001b[0m\u001b[0mto_base_b_frac\u001b[0m\u001b[0;34m(\u001b[0m\u001b[0;36m5\u001b[0m\u001b[0;34m,\u001b[0m \u001b[0;34m-\u001b[0m\u001b[0;36m1\u001b[0m\u001b[0;34m/\u001b[0m\u001b[0;36m2\u001b[0m\u001b[0;34m)\u001b[0m\u001b[0;34m)\u001b[0m\u001b[0;34m\u001b[0m\u001b[0;34m\u001b[0m\u001b[0m\n",
            "\u001b[0;32m<ipython-input-1-9526b899c2a1>\u001b[0m in \u001b[0;36mto_base_b_frac\u001b[0;34m(b, x)\u001b[0m\n\u001b[1;32m      1\u001b[0m \u001b[0;32mdef\u001b[0m \u001b[0mto_base_b_frac\u001b[0m\u001b[0;34m(\u001b[0m\u001b[0mb\u001b[0m\u001b[0;34m,\u001b[0m \u001b[0mx\u001b[0m\u001b[0;34m)\u001b[0m\u001b[0;34m:\u001b[0m\u001b[0;34m\u001b[0m\u001b[0;34m\u001b[0m\u001b[0m\n\u001b[0;32m----> 2\u001b[0;31m   \u001b[0;32massert\u001b[0m \u001b[0;36m0\u001b[0m \u001b[0;34m<=\u001b[0m \u001b[0mx\u001b[0m \u001b[0;34m<\u001b[0m \u001b[0;36m1\u001b[0m\u001b[0;34m,\u001b[0m \u001b[0;34m\"x must be in the interval [0,1)\"\u001b[0m\u001b[0;34m\u001b[0m\u001b[0;34m\u001b[0m\u001b[0m\n\u001b[0m\u001b[1;32m      3\u001b[0m   \u001b[0mdigList\u001b[0m \u001b[0;34m=\u001b[0m \u001b[0;34m[\u001b[0m\u001b[0;34m]\u001b[0m\u001b[0;34m\u001b[0m\u001b[0;34m\u001b[0m\u001b[0m\n\u001b[1;32m      4\u001b[0m   \u001b[0my\u001b[0m \u001b[0;34m=\u001b[0m \u001b[0;36m0\u001b[0m\u001b[0;34m\u001b[0m\u001b[0;34m\u001b[0m\u001b[0m\n\u001b[1;32m      5\u001b[0m   \u001b[0;32mfor\u001b[0m \u001b[0mi\u001b[0m \u001b[0;32min\u001b[0m \u001b[0mrange\u001b[0m\u001b[0;34m(\u001b[0m\u001b[0;36m1\u001b[0m\u001b[0;34m,\u001b[0m\u001b[0;36m9\u001b[0m\u001b[0;34m)\u001b[0m\u001b[0;34m:\u001b[0m\u001b[0;34m\u001b[0m\u001b[0;34m\u001b[0m\u001b[0m\n",
            "\u001b[0;31mAssertionError\u001b[0m: x must be in the interval [0,1)"
          ]
        }
      ]
    },
    {
      "cell_type": "code",
      "source": [
        "def to_base_b_alpha(b, alpha):\n",
        "  assert alpha >= 0, \"x must be non-negative\"\n",
        "  inInt = int(alpha)\n",
        "  inFrac = alpha - inInt\n",
        "  if inInt == 0:\n",
        "    outInt = [0]\n",
        "  else:\n",
        "    outInt = to_base_b_int(b, inInt)\n",
        "  if inFrac == 0:\n",
        "    outFrac = [0]\n",
        "  else:\n",
        "    outFrac = to_base_b_frac(b, inFrac)\n",
        "  print(\"Integer part: \", outInt)\n",
        "  print(\"Fractional part: \", outFrac)"
      ],
      "metadata": {
        "id": "GpHDpmIUgDJo"
      },
      "execution_count": 13,
      "outputs": []
    },
    {
      "cell_type": "code",
      "source": [
        "to_base_b_alpha(8, 1/2)\n",
        "to_base_b_alpha(8, 123)\n",
        "to_base_b_alpha(8, 22/7)\n",
        "to_base_b_alpha(8, 0)\n",
        "to_base_b_alpha(8, 1)\n",
        "to_base_b_alpha(8, 90/1)\n",
        "to_base_b_alpha(8, 495/290)"
      ],
      "metadata": {
        "colab": {
          "base_uri": "https://localhost:8080/"
        },
        "id": "36taL6zwkppn",
        "outputId": "734e1064-0ffe-4ddb-81cd-63626eb553eb"
      },
      "execution_count": 14,
      "outputs": [
        {
          "output_type": "stream",
          "name": "stdout",
          "text": [
            "Integer part:  [0]\n",
            "Fractional part:  [4, 0, 0, 0, 0, 0, 0, 0]\n",
            "Integer part:  [1, 7, 3]\n",
            "Fractional part:  [0]\n",
            "Integer part:  [3]\n",
            "Fractional part:  [1, 1, 1, 1, 1, 1, 1, 1]\n",
            "Integer part:  [0]\n",
            "Fractional part:  [0]\n",
            "Integer part:  [1]\n",
            "Fractional part:  [0]\n",
            "Integer part:  [1, 3, 2]\n",
            "Fractional part:  [0]\n",
            "Integer part:  [1]\n",
            "Fractional part:  [5, 5, 1, 7, 3, 4, 5, 4]\n"
          ]
        }
      ]
    }
  ]
}