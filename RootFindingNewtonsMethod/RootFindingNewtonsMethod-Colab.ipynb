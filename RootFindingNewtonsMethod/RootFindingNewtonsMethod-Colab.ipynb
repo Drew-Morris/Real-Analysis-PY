{
  "nbformat": 4,
  "nbformat_minor": 0,
  "metadata": {
    "colab": {
      "name": "RootFindingNewtonsMethod-Colab.ipynb",
      "provenance": []
    },
    "kernelspec": {
      "name": "python3",
      "display_name": "Python 3"
    },
    "language_info": {
      "name": "python"
    }
  },
  "cells": [
    {
      "cell_type": "code",
      "source": [
        "import sympy as sp\n",
        "import numpy as np\n",
        "import math\n",
        "from matplotlib import pyplot as plt\n",
        "import sys\n",
        "sys.setrecursionlimit(2000)"
      ],
      "metadata": {
        "id": "vJbmhicU-HEl"
      },
      "execution_count": 109,
      "outputs": []
    },
    {
      "cell_type": "code",
      "source": [
        "def f(x):\n",
        "  return x**5 + 2*x**3 - x - 1\n",
        "  #polynomial we're finding roots for"
      ],
      "metadata": {
        "id": "E34RF1D59a22"
      },
      "execution_count": 12,
      "outputs": []
    },
    {
      "cell_type": "code",
      "execution_count": 13,
      "metadata": {
        "id": "yeDMbpiy6RFS"
      },
      "outputs": [],
      "source": [
        "def approxf(e):\n",
        "  assert e > 0, \"e must be positive\"\n",
        "  a = 0\n",
        "  #lower bound\n",
        "  b = 1\n",
        "  #upper bound\n",
        "  while abs(f(b) - f(a)) >= e:\n",
        "    c = (a + b) / 2\n",
        "    #c is the midpoint of a and b\n",
        "    if f(c) == 0:\n",
        "      return c\n",
        "      #if c is a root, we're done\n",
        "    elif f(c) > 0:\n",
        "      b = c\n",
        "      #if f(c) is positive, replace b with c\n",
        "    elif f(c) < 0:\n",
        "      a = c\n",
        "      #if f(c) is negative, replace a with c\n",
        "  c = int(c/e) * e\n",
        "  return c\n",
        "  #when the difference of f(a) and f(b) is within our error, we're done"
      ]
    },
    {
      "cell_type": "code",
      "source": [
        "approxf(0.000001)\n",
        "#root of f(x) accurate to 6 decimals"
      ],
      "metadata": {
        "colab": {
          "base_uri": "https://localhost:8080/"
        },
        "id": "9dO-DV8o-U32",
        "outputId": "a038f9e1-9cab-467d-f1d4-ec68b79875f0"
      },
      "execution_count": 14,
      "outputs": [
        {
          "output_type": "execute_result",
          "data": {
            "text/plain": [
              "0.878388"
            ]
          },
          "metadata": {},
          "execution_count": 14
        }
      ]
    },
    {
      "cell_type": "code",
      "source": [
        "#Every odd degree polynomial has a real root because imaginary roots come in pairs"
      ],
      "metadata": {
        "id": "HiZw6RtbNULN"
      },
      "execution_count": 15,
      "outputs": []
    },
    {
      "cell_type": "code",
      "source": [
        "def Solver(coef_list):\n",
        "  assert len(coef_list) % 2 == 0, \"must insert an even number of coefficients.\"\n",
        "  n = coef_list[len(coef_list) - 1]\n",
        "  assert n != 0, \"the last term cannot be 0\"\n",
        "  M = 0\n",
        "  m = 0\n",
        "  for i in range(len(coef_list)):\n",
        "    if 0 < abs(coef_list[i]) < 1:\n",
        "      M += abs(1.0 / coef_list[i])\n",
        "      m -= abs(1.0 / coef_list[i])\n",
        "    if abs(coef_list[i]) >= 1:\n",
        "      M += abs(coef_list[i])\n",
        "      m -= abs(coef_list[i]) \n",
        "  b = M\n",
        "  a = m\n",
        "  poly = lambda x : sum(coef_list[i]*x**i for i in range(len(coef_list)))\n",
        "  Evala = poly(a)\n",
        "  Evalb = poly(b)\n",
        "  if ((Evala > 0 and Evalb > 0) or (Evala < 0 and Evalb < 0)):\n",
        "    while ((Evala > 0 and Evalb > 0) or (Evala < 0 and Evalb < 0)):\n",
        "      a *= 2\n",
        "      b *= 2\n",
        "      Evala = poly(a)\n",
        "      Evalb = poly(b)\n",
        "  Evaldiff = abs(Evalb - Evala)\n",
        "  while (Evaldiff > 0.000000000001):\n",
        "    c = (b + a) / 2\n",
        "    Evalc = poly(c)\n",
        "    if (Evalc == 0):\n",
        "      return c\n",
        "    elif (Evalc > 0):\n",
        "      b = c\n",
        "    elif (Evalc < 0):\n",
        "      a = c\n",
        "    Evala = poly(a)\n",
        "    Evalb = poly(b)\n",
        "    Evaldiff = abs(Evalb - Evala)\n",
        "  return c"
      ],
      "metadata": {
        "id": "T_9uID5kNJPC"
      },
      "execution_count": 95,
      "outputs": []
    },
    {
      "cell_type": "code",
      "source": [
        "#Part A\n",
        "print(Solver([4, -4, 3, -3, -1, 1]))\n",
        "#Part B\n",
        "print(Solver([0, -8000, 800040, 4003.8, -19.981, 0.1]))\n",
        "#Part C\n",
        "print(Solver([-2519.48, -251915, -12594100, 165746, -714.13, 1]))\n",
        "#Part D\n",
        "print(Solver([-0.1, -1, 1000, 10000, 0.1, 1]))\n",
        "print(Solver([-97.9470899470899, -57.1481481481481, 8.82539682539682, 1.00000000000000]))"
      ],
      "metadata": {
        "colab": {
          "base_uri": "https://localhost:8080/"
        },
        "id": "gNkRS-CuNsTJ",
        "outputId": "a48f9682-9ebb-4a85-fa7f-ca51d7eedaae"
      },
      "execution_count": 96,
      "outputs": [
        {
          "output_type": "stream",
          "name": "stdout",
          "text": [
            "-2.0\n",
            "0.0\n",
            "314.1432379062469\n",
            "0.009999999950003578\n",
            "5.333333333333331\n"
          ]
        }
      ]
    },
    {
      "cell_type": "code",
      "source": [
        "def newtonf(n):\n",
        "  x, y = sp.symbols('x, y')\n",
        "  expr = x**5 + 2*x**3 - x - 1\n",
        "  dxexpr = sp.diff(expr, x) #derivative of the polynomial\n",
        "  m = dxexpr.evalf(subs={x:n}) #slope\n",
        "  tang = ((y - expr.evalf(subs={x:n})) / m) + n #tangent line in terms of y\n",
        "  N = tang.evalf(subs={y:0}) #x-intercept\n",
        "  if abs(expr.evalf(subs={x:N})) < 0.000001:\n",
        "    return N #If within error, return x_new\n",
        "  else:\n",
        "    return newtonf(N) #Else, recurse"
      ],
      "metadata": {
        "id": "ZjTw7aPrV93P"
      },
      "execution_count": 110,
      "outputs": []
    },
    {
      "cell_type": "code",
      "source": [
        "newtonf(0)"
      ],
      "metadata": {
        "colab": {
          "base_uri": "https://localhost:8080/",
          "height": 37
        },
        "id": "TA6DGvPwX8eM",
        "outputId": "57a4c6f5-df1a-4dd8-ebb8-8e6d8d25f41b"
      },
      "execution_count": null,
      "outputs": [
        {
          "output_type": "execute_result",
          "data": {
            "text/latex": "$\\displaystyle 0.878388641657747$",
            "text/plain": [
              "0.878388641657747"
            ]
          },
          "metadata": {},
          "execution_count": 28
        }
      ]
    },
    {
      "cell_type": "code",
      "source": [
        "def Newton(n, f):\n",
        "  x,y = sp.symbols('x,y')\n",
        "  df = sp.diff(f, x)\n",
        "  m = df.evalf(subs={x:n})\n",
        "  y0 = f.evalf(subs={x:n})\n",
        "  tang = ((y - y0) / m) + n\n",
        "  N = tang.evalf(subs={y:0})\n",
        "  if abs(f.evalf(subs={x:n}) - f.evalf(subs={x:N})) < 0.000001:\n",
        "    return N\n",
        "  else:\n",
        "    return Newton(N, f)"
      ],
      "metadata": {
        "id": "qbDV1rBDcf6z"
      },
      "execution_count": 115,
      "outputs": []
    },
    {
      "cell_type": "code",
      "source": [
        "x = sp.symbols('x')\n",
        "f = x**5 + 2*x**3 - x - 1\n",
        "Newton(1, f)"
      ],
      "metadata": {
        "colab": {
          "base_uri": "https://localhost:8080/",
          "height": 37
        },
        "id": "7YBzI3cxciPz",
        "outputId": "8772642f-9c39-4377-a10a-35fb78fa9593"
      },
      "execution_count": 116,
      "outputs": [
        {
          "output_type": "execute_result",
          "data": {
            "text/latex": "$\\displaystyle 0.87838864134834$",
            "text/plain": [
              "0.878388641348340"
            ]
          },
          "metadata": {},
          "execution_count": 116
        }
      ]
    },
    {
      "cell_type": "code",
      "source": [
        "f = x**9 + 16.8277777777778*x**8 - 102.576111111111*x**7 - 1705.15369753086*x**6 + 3917.38375*x**5 + 54023.9802191358*x**4 - 70364.7293333334*x**3 - 648403.845049383*x**2 + 459858.121777778*x + 2496779.12\n",
        "Newton(-92, f)"
      ],
      "metadata": {
        "colab": {
          "base_uri": "https://localhost:8080/",
          "height": 37
        },
        "id": "5zycrVlT94TZ",
        "outputId": "7229787c-d005-4c30-812f-69cfdd9aa72b"
      },
      "execution_count": 119,
      "outputs": [
        {
          "output_type": "execute_result",
          "data": {
            "text/latex": "$\\displaystyle -16.75$",
            "text/plain": [
              "-16.7500000000000"
            ]
          },
          "metadata": {},
          "execution_count": 119
        }
      ]
    },
    {
      "cell_type": "code",
      "source": [
        "x = sp.symbols('x')\n",
        "f = sp.sin(x**2) + x**2 - x - 1\n",
        "Newton(0, f)"
      ],
      "metadata": {
        "colab": {
          "base_uri": "https://localhost:8080/",
          "height": 37
        },
        "id": "dG_hMFDccmZS",
        "outputId": "d6aaab93-4870-4872-e043-51a78c3e4cb6"
      },
      "execution_count": 117,
      "outputs": [
        {
          "output_type": "execute_result",
          "data": {
            "text/latex": "$\\displaystyle -0.500873933398175$",
            "text/plain": [
              "-0.500873933398175"
            ]
          },
          "metadata": {},
          "execution_count": 117
        }
      ]
    },
    {
      "cell_type": "code",
      "source": [
        "x = sp.symbols('x')\n",
        "f = x**3 + 0.1*x**2 - x - 0.2\n",
        "X = np.linspace(-1.25, 1.25, 100)\n",
        "Y = []\n",
        "for i in range(len(X)):\n",
        "  Y += [f.evalf(subs={x:X[i]})]\n",
        "Y = np.array(Y)\n",
        "plt.plot(X,Y)\n",
        "plt.show()\n",
        "#f has 3 roots\n",
        "print(Newton(-1, f))\n",
        "print(Newton(0, f))\n",
        "print(Newton(1, f))\n",
        "#All solutions can be found\n",
        "df = sp.diff(f, x)\n",
        "null1 = Newton(-1, df)\n",
        "null2 = Newton(1, df)\n",
        "#null1 and null2 will not work"
      ],
      "metadata": {
        "colab": {
          "base_uri": "https://localhost:8080/",
          "height": 316
        },
        "id": "XBBbGtvXdjMm",
        "outputId": "c093dd87-e8ee-4462-d900-d4644be24feb"
      },
      "execution_count": 118,
      "outputs": [
        {
          "output_type": "display_data",
          "data": {
            "image/png": "[encoded data removed]",
            "text/plain": [
              "<Figure size 432x288 with 1 Axes>"
            ]
          },
          "metadata": {
            "needs_background": "light"
          }
        },
        {
          "output_type": "stream",
          "name": "stdout",
          "text": [
            "-0.938475307901644\n",
            "-0.204358239027370\n",
            "1.04283354692901\n"
          ]
        }
      ]
    }
  ]
}