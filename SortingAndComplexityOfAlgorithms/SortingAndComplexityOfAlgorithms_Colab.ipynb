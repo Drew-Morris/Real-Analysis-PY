{
  "nbformat": 4,
  "nbformat_minor": 0,
  "metadata": {
    "colab": {
      "name": "SortingAndComplexityOfAlgorithms-Colab.ipynb",
      "provenance": []
    },
    "kernelspec": {
      "name": "python3",
      "display_name": "Python 3"
    },
    "language_info": {
      "name": "python"
    }
  },
  "cells": [
    {
      "cell_type": "code",
      "execution_count": 1,
      "metadata": {
        "id": "2DCoSt-BCdK7"
      },
      "outputs": [],
      "source": [
        "def bubble_sort(l):\n",
        "  for i in range(len(l)-1):\n",
        "    term1 = l[i]\n",
        "    term2 = l[i+1]\n",
        "    if term1 > term2:\n",
        "      l[i] = term2\n",
        "      l[i+1] = term1\n",
        "  for i in range(len(l)-1):\n",
        "    if l[i] > l[i+1]:\n",
        "      return bubble_sort(l)\n",
        "  return l"
      ]
    },
    {
      "cell_type": "code",
      "source": [
        "l = [3,2,1,0]\n",
        "print(l)\n",
        "print(bubble_sort(l))\n",
        "\n",
        "l = [10,9,8,7,6,5,4,3,2,1,0]\n",
        "print(l)\n",
        "print(bubble_sort(l))\n",
        "\n",
        "l = [48, 81, 25, 12, 47, 4, 15, 90, 95, 7, 80, 68, 88, 8, 42, 3, 6, 14, 76, 19, 91, 52, 15, 51, 95, 1, 6, 81, 35, 99, 23, 24, 72, 94, 98, 88, 20, 84, 55, 32, 45, 99, 40, 51, 2, 25, 82, 66, 75, 30, 38, 8, 75, 33, 2, 7, 98, 61, 28, 2, 39, 100, 25, 89, 70, 41, 91, 8, 78, 61, 26, 9, 88, 92, 59, 44, 41, 60, 99, 80, 28, 53, 45, 95, 96, 84, 39, 55, 32, 98, 41, 23, 4, 14, 22, 4, 64, 12, 79, 43]\n",
        "print(l)\n",
        "print(bubble_sort(l))"
      ],
      "metadata": {
        "colab": {
          "base_uri": "https://localhost:8080/"
        },
        "id": "o7x3igDCC8Jl",
        "outputId": "bc9fe557-6bc1-4035-f5e1-e70a3b8d1137"
      },
      "execution_count": 4,
      "outputs": [
        {
          "output_type": "execute_result",
          "data": {
            "text/plain": [
              "[1,\n",
              " 2,\n",
              " 2,\n",
              " 2,\n",
              " 3,\n",
              " 4,\n",
              " 4,\n",
              " 4,\n",
              " 6,\n",
              " 6,\n",
              " 7,\n",
              " 7,\n",
              " 8,\n",
              " 8,\n",
              " 8,\n",
              " 9,\n",
              " 12,\n",
              " 12,\n",
              " 14,\n",
              " 14,\n",
              " 15,\n",
              " 15,\n",
              " 19,\n",
              " 20,\n",
              " 22,\n",
              " 23,\n",
              " 23,\n",
              " 24,\n",
              " 25,\n",
              " 25,\n",
              " 25,\n",
              " 26,\n",
              " 28,\n",
              " 28,\n",
              " 30,\n",
              " 32,\n",
              " 32,\n",
              " 33,\n",
              " 35,\n",
              " 38,\n",
              " 39,\n",
              " 39,\n",
              " 40,\n",
              " 41,\n",
              " 41,\n",
              " 41,\n",
              " 42,\n",
              " 43,\n",
              " 44,\n",
              " 45,\n",
              " 45,\n",
              " 47,\n",
              " 48,\n",
              " 51,\n",
              " 51,\n",
              " 52,\n",
              " 53,\n",
              " 55,\n",
              " 55,\n",
              " 59,\n",
              " 60,\n",
              " 61,\n",
              " 61,\n",
              " 64,\n",
              " 66,\n",
              " 68,\n",
              " 70,\n",
              " 72,\n",
              " 75,\n",
              " 75,\n",
              " 76,\n",
              " 78,\n",
              " 79,\n",
              " 80,\n",
              " 80,\n",
              " 81,\n",
              " 81,\n",
              " 82,\n",
              " 84,\n",
              " 84,\n",
              " 88,\n",
              " 88,\n",
              " 88,\n",
              " 89,\n",
              " 90,\n",
              " 91,\n",
              " 91,\n",
              " 92,\n",
              " 94,\n",
              " 95,\n",
              " 95,\n",
              " 95,\n",
              " 96,\n",
              " 98,\n",
              " 98,\n",
              " 98,\n",
              " 99,\n",
              " 99,\n",
              " 99,\n",
              " 100]"
            ]
          },
          "metadata": {},
          "execution_count": 4
        }
      ]
    },
    {
      "cell_type": "code",
      "source": [
        "#The complexity of bubble sort is O((n-1)^2)\n",
        "\n",
        "#Which means on average we are making ((n-1)^2) comparisons\n",
        "#where n is the length of the input list\n",
        "\n",
        "#There are two for loops"
      ],
      "metadata": {
        "id": "1r7AbGHXCsb8"
      },
      "execution_count": null,
      "outputs": []
    },
    {
      "cell_type": "code",
      "source": [
        "#The complexity of the binary search function is ceil(sqrt(n))\n",
        "#where n is the length of the input list\n",
        "\n",
        "#Starting with 16 we would make 4 cuts to find the element"
      ],
      "metadata": {
        "id": "MTrONOjDDXcs"
      },
      "execution_count": null,
      "outputs": []
    }
  ]
}