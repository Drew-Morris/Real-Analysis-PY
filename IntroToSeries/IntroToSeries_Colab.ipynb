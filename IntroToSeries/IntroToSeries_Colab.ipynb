{
  "nbformat": 4,
  "nbformat_minor": 0,
  "metadata": {
    "colab": {
      "name": "IntroToSeries-Colab.ipynb",
      "provenance": []
    },
    "kernelspec": {
      "name": "python3",
      "display_name": "Python 3"
    },
    "language_info": {
      "name": "python"
    }
  },
  "cells": [
    {
      "cell_type": "code",
      "execution_count": 29,
      "metadata": {
        "id": "amNiz8WJG2J6"
      },
      "outputs": [],
      "source": [
        "import numpy as np\n",
        "from matplotlib import pyplot as plt\n",
        "import math"
      ]
    },
    {
      "cell_type": "code",
      "source": [
        "def seq1(n):\n",
        "  return 1 / (2**n)"
      ],
      "metadata": {
        "id": "Kh3dm_DA6sgY"
      },
      "execution_count": 2,
      "outputs": []
    },
    {
      "cell_type": "code",
      "source": [
        "def ser1(N):\n",
        "  sumPartial = 0\n",
        "  for n in range(N):\n",
        "    sumPartial += seq1(n)\n",
        "  return sumPartial"
      ],
      "metadata": {
        "id": "yF9yGgdf6xaJ"
      },
      "execution_count": 3,
      "outputs": []
    },
    {
      "cell_type": "code",
      "source": [
        "def ser1print(N):\n",
        "  for p in range(N):\n",
        "    print(ser1(p))\n",
        "  return"
      ],
      "metadata": {
        "id": "Ii4xQZMU62_B"
      },
      "execution_count": 7,
      "outputs": []
    },
    {
      "cell_type": "code",
      "source": [
        "def ser1plot(N):\n",
        "  x = np. linspace(0,N-1,num=N)\n",
        "  y = []\n",
        "  for s in range(N):\n",
        "    y += [ser1(s)]\n",
        "  plt.plot(x,y, 'o')\n",
        "  plt.show()\n",
        "  return"
      ],
      "metadata": {
        "id": "tFREkETN669G"
      },
      "execution_count": 17,
      "outputs": []
    },
    {
      "cell_type": "code",
      "source": [
        "ser1print(50)"
      ],
      "metadata": {
        "colab": {
          "base_uri": "https://localhost:8080/"
        },
        "id": "ZlqBNbSP76LU",
        "outputId": "86f9582f-7786-49df-8b18-02ba0cad11e7"
      },
      "execution_count": 8,
      "outputs": [
        {
          "output_type": "stream",
          "name": "stdout",
          "text": [
            "0\n",
            "1.0\n",
            "1.5\n",
            "1.75\n",
            "1.875\n",
            "1.9375\n",
            "1.96875\n",
            "1.984375\n",
            "1.9921875\n",
            "1.99609375\n",
            "1.998046875\n",
            "1.9990234375\n",
            "1.99951171875\n",
            "1.999755859375\n",
            "1.9998779296875\n",
            "1.99993896484375\n",
            "1.999969482421875\n",
            "1.9999847412109375\n",
            "1.9999923706054688\n",
            "1.9999961853027344\n",
            "1.9999980926513672\n",
            "1.9999990463256836\n",
            "1.9999995231628418\n",
            "1.999999761581421\n",
            "1.9999998807907104\n",
            "1.9999999403953552\n",
            "1.9999999701976776\n",
            "1.9999999850988388\n",
            "1.9999999925494194\n",
            "1.9999999962747097\n",
            "1.9999999981373549\n",
            "1.9999999990686774\n",
            "1.9999999995343387\n",
            "1.9999999997671694\n",
            "1.9999999998835847\n",
            "1.9999999999417923\n",
            "1.9999999999708962\n",
            "1.999999999985448\n",
            "1.999999999992724\n",
            "1.999999999996362\n",
            "1.999999999998181\n",
            "1.9999999999990905\n",
            "1.9999999999995453\n",
            "1.9999999999997726\n",
            "1.9999999999998863\n",
            "1.9999999999999432\n",
            "1.9999999999999716\n",
            "1.9999999999999858\n",
            "1.999999999999993\n",
            "1.9999999999999964\n"
          ]
        }
      ]
    },
    {
      "cell_type": "code",
      "source": [
        "ser1plot(50)"
      ],
      "metadata": {
        "colab": {
          "base_uri": "https://localhost:8080/",
          "height": 265
        },
        "id": "flYCGIw68K_C",
        "outputId": "e3d1f758-152f-4846-d3c7-d50a98277222"
      },
      "execution_count": 18,
      "outputs": [
        {
          "output_type": "display_data",
          "data": {
            "image/png": "[encoded data removed]",
            "text/plain": [
              "<Figure size 432x288 with 1 Axes>"
            ]
          },
          "metadata": {
            "needs_background": "light"
          }
        }
      ]
    },
    {
      "cell_type": "code",
      "source": [
        "#the series does appear to converge to 2"
      ],
      "metadata": {
        "id": "zvvzdYGr8W7C"
      },
      "execution_count": null,
      "outputs": []
    },
    {
      "cell_type": "code",
      "source": [
        "def seq2(n):\n",
        "  return (-1)**n"
      ],
      "metadata": {
        "id": "3DTHlAOz8eyL"
      },
      "execution_count": 10,
      "outputs": []
    },
    {
      "cell_type": "code",
      "source": [
        "def ser2(N):\n",
        "  sumPartial = 0\n",
        "  for n in range(N):\n",
        "    sumPartial += seq2(n)\n",
        "  return sumPartial"
      ],
      "metadata": {
        "id": "RNgj0yay8qWA"
      },
      "execution_count": 11,
      "outputs": []
    },
    {
      "cell_type": "code",
      "source": [
        "def ser2print(N):\n",
        "  for p in range(N):\n",
        "    print(ser2(p))\n",
        "  return"
      ],
      "metadata": {
        "id": "MtEGncGD9Ili"
      },
      "execution_count": 12,
      "outputs": []
    },
    {
      "cell_type": "code",
      "source": [
        "def ser2plot(N):\n",
        "  x = np.linspace(0,N-1,num=N)\n",
        "  y = []\n",
        "  for s in range(N):\n",
        "    y += [ser2(s)]\n",
        "  plt.plot(x,y, 'o')\n",
        "  plt.show()\n",
        "  return"
      ],
      "metadata": {
        "id": "E7ogp9B59JBg"
      },
      "execution_count": 19,
      "outputs": []
    },
    {
      "cell_type": "code",
      "source": [
        "ser2print(50)"
      ],
      "metadata": {
        "colab": {
          "base_uri": "https://localhost:8080/"
        },
        "id": "_MU1kB_c-FyY",
        "outputId": "baa5796c-f557-4c30-dfc5-7dd5afee239b"
      },
      "execution_count": 14,
      "outputs": [
        {
          "output_type": "stream",
          "name": "stdout",
          "text": [
            "0\n",
            "1\n",
            "0\n",
            "1\n",
            "0\n",
            "1\n",
            "0\n",
            "1\n",
            "0\n",
            "1\n",
            "0\n",
            "1\n",
            "0\n",
            "1\n",
            "0\n",
            "1\n",
            "0\n",
            "1\n",
            "0\n",
            "1\n",
            "0\n",
            "1\n",
            "0\n",
            "1\n",
            "0\n",
            "1\n",
            "0\n",
            "1\n",
            "0\n",
            "1\n",
            "0\n",
            "1\n",
            "0\n",
            "1\n",
            "0\n",
            "1\n",
            "0\n",
            "1\n",
            "0\n",
            "1\n",
            "0\n",
            "1\n",
            "0\n",
            "1\n",
            "0\n",
            "1\n",
            "0\n",
            "1\n",
            "0\n",
            "1\n"
          ]
        }
      ]
    },
    {
      "cell_type": "code",
      "source": [
        ""
      ],
      "metadata": {
        "id": "Ca31VwI9Gc3O"
      },
      "execution_count": null,
      "outputs": []
    },
    {
      "cell_type": "code",
      "source": [
        "ser2plot(50)"
      ],
      "metadata": {
        "colab": {
          "base_uri": "https://localhost:8080/",
          "height": 265
        },
        "id": "IMpPWhJ5-JmZ",
        "outputId": "b844214e-560e-450b-ab23-312d3356a292"
      },
      "execution_count": 20,
      "outputs": [
        {
          "output_type": "display_data",
          "data": {
            "image/png": "[encoded data removed]",
            "text/plain": [
              "<Figure size 432x288 with 1 Axes>"
            ]
          },
          "metadata": {
            "needs_background": "light"
          }
        }
      ]
    },
    {
      "cell_type": "code",
      "source": [
        "#the series appears to alternate between 2 values, thus it diverges"
      ],
      "metadata": {
        "id": "itAsXA2f-mah"
      },
      "execution_count": null,
      "outputs": []
    },
    {
      "cell_type": "code",
      "source": [
        "def seq3(n):\n",
        "  return 1/(n+1)"
      ],
      "metadata": {
        "id": "W384XXtBGeb9"
      },
      "execution_count": 21,
      "outputs": []
    },
    {
      "cell_type": "code",
      "source": [
        "def ser3(N):\n",
        "  sumPartial = 0\n",
        "  for n in range(N):\n",
        "    sumPartial += seq3(n)\n",
        "  return sumPartial"
      ],
      "metadata": {
        "id": "YfJ-eR5OGjCE"
      },
      "execution_count": 22,
      "outputs": []
    },
    {
      "cell_type": "code",
      "source": [
        "def ser3print(N):\n",
        "  for p in range(N):\n",
        "    print(ser3(p))\n",
        "  return"
      ],
      "metadata": {
        "id": "4EBAWt8QGmHd"
      },
      "execution_count": 23,
      "outputs": []
    },
    {
      "cell_type": "code",
      "source": [
        "def ser3plot(N):\n",
        "  x = np.linspace(0,N-1,num=N)\n",
        "  y = []\n",
        "  for s in range(N):\n",
        "    y += [ser3(s)]\n",
        "  plt.plot(x,y, 'o')\n",
        "  plt.show()"
      ],
      "metadata": {
        "id": "EgbZe8m-Goqa"
      },
      "execution_count": 24,
      "outputs": []
    },
    {
      "cell_type": "code",
      "source": [
        "ser3print(50)"
      ],
      "metadata": {
        "colab": {
          "base_uri": "https://localhost:8080/"
        },
        "id": "hhC11s0vGtZh",
        "outputId": "4a601657-a932-43c3-8c33-f08fdadb135b"
      },
      "execution_count": 25,
      "outputs": [
        {
          "output_type": "stream",
          "name": "stdout",
          "text": [
            "0\n",
            "1.0\n",
            "1.5\n",
            "1.8333333333333333\n",
            "2.083333333333333\n",
            "2.283333333333333\n",
            "2.4499999999999997\n",
            "2.5928571428571425\n",
            "2.7178571428571425\n",
            "2.8289682539682537\n",
            "2.9289682539682538\n",
            "3.0198773448773446\n",
            "3.103210678210678\n",
            "3.180133755133755\n",
            "3.251562326562327\n",
            "3.3182289932289937\n",
            "3.3807289932289937\n",
            "3.439552522640758\n",
            "3.4951080781963135\n",
            "3.547739657143682\n",
            "3.597739657143682\n",
            "3.6453587047627294\n",
            "3.690813250217275\n",
            "3.73429151108684\n",
            "3.7759581777535067\n",
            "3.8159581777535068\n",
            "3.854419716215045\n",
            "3.8914567532520823\n",
            "3.927171038966368\n",
            "3.9616537975870574\n",
            "3.9949871309203906\n",
            "4.02724519543652\n",
            "4.05849519543652\n",
            "4.08879822573955\n",
            "4.118209990445433\n",
            "4.146781419016861\n",
            "4.174559196794639\n",
            "4.201586223821666\n",
            "4.22790201329535\n",
            "4.2535430389363755\n",
            "4.278543038936376\n",
            "4.302933282838815\n",
            "4.326742806648339\n",
            "4.349998620601827\n",
            "4.3727258933290996\n",
            "4.394948115551322\n",
            "4.416687245986104\n",
            "4.4379638417307845\n",
            "4.4587971750641175\n",
            "4.4792053383294235\n"
          ]
        }
      ]
    },
    {
      "cell_type": "code",
      "source": [
        "ser3plot(50)"
      ],
      "metadata": {
        "colab": {
          "base_uri": "https://localhost:8080/",
          "height": 265
        },
        "id": "fGlzltVxG9OC",
        "outputId": "e92ddef7-a697-480e-f318-56f7c493c60e"
      },
      "execution_count": 26,
      "outputs": [
        {
          "output_type": "display_data",
          "data": {
            "image/png": "[encoded data removed]",
            "text/plain": [
              "<Figure size 432x288 with 1 Axes>"
            ]
          },
          "metadata": {
            "needs_background": "light"
          }
        }
      ]
    },
    {
      "cell_type": "code",
      "source": [
        "ser3plot(100)"
      ],
      "metadata": {
        "colab": {
          "base_uri": "https://localhost:8080/",
          "height": 265
        },
        "id": "8YFy_o-lHDvS",
        "outputId": "36de2819-e0d2-4b4f-be27-168690c1bd25"
      },
      "execution_count": 27,
      "outputs": [
        {
          "output_type": "display_data",
          "data": {
            "image/png": "[encoded data removed]",
            "text/plain": [
              "<Figure size 432x288 with 1 Axes>"
            ]
          },
          "metadata": {
            "needs_background": "light"
          }
        }
      ]
    },
    {
      "cell_type": "code",
      "source": [
        "ser3plot(1000)"
      ],
      "metadata": {
        "colab": {
          "base_uri": "https://localhost:8080/",
          "height": 265
        },
        "id": "BIWh9bgMHGF_",
        "outputId": "b18ff801-5c30-4509-c348-3b53033231c0"
      },
      "execution_count": 28,
      "outputs": [
        {
          "output_type": "display_data",
          "data": {
            "image/png": "[encoded data removed]",
            "text/plain": [
              "<Figure size 432x288 with 1 Axes>"
            ]
          },
          "metadata": {
            "needs_background": "light"
          }
        }
      ]
    },
    {
      "cell_type": "code",
      "source": [
        "#the series seems to kind of level off, but not quite. We have proven that this series diverges"
      ],
      "metadata": {
        "id": "H_uzkAbYHLFT"
      },
      "execution_count": null,
      "outputs": []
    },
    {
      "cell_type": "code",
      "source": [
        "def seq4(n):\n",
        "  return 1 / ((n+1) * math.log(n+2))"
      ],
      "metadata": {
        "id": "iAv19VyIHeH6"
      },
      "execution_count": 30,
      "outputs": []
    },
    {
      "cell_type": "code",
      "source": [
        "def ser4(N):\n",
        "  sumPartial = 0\n",
        "  for n in range(N):\n",
        "    sumPartial += seq4(n)\n",
        "  return sumPartial"
      ],
      "metadata": {
        "id": "zguiifCjRUB5"
      },
      "execution_count": 31,
      "outputs": []
    },
    {
      "cell_type": "code",
      "source": [
        "def ser4print(N):\n",
        "  for p in range(N):\n",
        "    print(ser4(p))\n",
        "  return"
      ],
      "metadata": {
        "id": "-adRagc3Ra85"
      },
      "execution_count": 32,
      "outputs": []
    },
    {
      "cell_type": "code",
      "source": [
        "def ser4plot(N):\n",
        "  x = np.linspace(0, N-1, num=N)\n",
        "  y = []\n",
        "  for s in range(N):\n",
        "    y += [ser4(s)]\n",
        "  plt.plot(x,y)\n",
        "  plt.show()\n",
        "  return"
      ],
      "metadata": {
        "id": "Y7s0hvpORvEw"
      },
      "execution_count": 36,
      "outputs": []
    },
    {
      "cell_type": "code",
      "source": [
        "ser4plot(100)"
      ],
      "metadata": {
        "colab": {
          "base_uri": "https://localhost:8080/",
          "height": 267
        },
        "id": "a8EcEIAzSGKN",
        "outputId": "0351fb3e-9d8c-4e8a-9b10-2a496786497e"
      },
      "execution_count": 37,
      "outputs": [
        {
          "output_type": "display_data",
          "data": {
            "image/png": "[encoded data removed]",
            "text/plain": [
              "<Figure size 432x288 with 1 Axes>"
            ]
          },
          "metadata": {
            "needs_background": "light"
          }
        }
      ]
    },
    {
      "cell_type": "code",
      "source": [
        "ser4plot(1000)"
      ],
      "metadata": {
        "colab": {
          "base_uri": "https://localhost:8080/",
          "height": 265
        },
        "id": "m9035GnYSKuM",
        "outputId": "58c07109-c94a-4807-ebaa-30fcf50096f6"
      },
      "execution_count": 38,
      "outputs": [
        {
          "output_type": "display_data",
          "data": {
            "image/png": "[encoded data removed]",
            "text/plain": [
              "<Figure size 432x288 with 1 Axes>"
            ]
          },
          "metadata": {
            "needs_background": "light"
          }
        }
      ]
    },
    {
      "cell_type": "code",
      "source": [
        "ser4plot(10000)"
      ],
      "metadata": {
        "colab": {
          "base_uri": "https://localhost:8080/",
          "height": 265
        },
        "id": "SxvtWG4BSMCA",
        "outputId": "ba93b37d-829e-4046-be5c-2e6cff6350b7"
      },
      "execution_count": 39,
      "outputs": [
        {
          "output_type": "display_data",
          "data": {
            "image/png": "[encoded data removed]",
            "text/plain": [
              "<Figure size 432x288 with 1 Axes>"
            ]
          },
          "metadata": {
            "needs_background": "light"
          }
        }
      ]
    },
    {
      "cell_type": "code",
      "source": [
        "#this series can be written as the product two series\n",
        "#specifically the harmonic series and 1/(ln(n+1))\n",
        "#the harmonic series is divergent\n",
        "#so we only need to analyze the second series, which is visible divergent\n",
        "#thus there product, this series, is divergent"
      ],
      "metadata": {
        "id": "VeBR1E02V8u1"
      },
      "execution_count": 40,
      "outputs": []
    },
    {
      "cell_type": "code",
      "source": [
        "def seq5(n):\n",
        "  return (-1)**(n+2) * (math.floor(math.log2(n+2)) / (n+2))"
      ],
      "metadata": {
        "id": "QEkyLTLwXmoc"
      },
      "execution_count": 62,
      "outputs": []
    },
    {
      "cell_type": "code",
      "source": [
        "def ser5(N):\n",
        "  sumPartial = 0\n",
        "  for n in range(N):\n",
        "    sumPartial += seq5(n)\n",
        "  return sumPartial"
      ],
      "metadata": {
        "id": "wT_KGy6lXpzq"
      },
      "execution_count": 42,
      "outputs": []
    },
    {
      "cell_type": "code",
      "source": [
        "def ser5print(N):\n",
        "  for p in range(N):\n",
        "    print(ser5(p))\n",
        "  return"
      ],
      "metadata": {
        "id": "ixFGStXNXtUy"
      },
      "execution_count": 43,
      "outputs": []
    },
    {
      "cell_type": "code",
      "source": [
        "def ser5plot(N):\n",
        "  x = np.linspace(0,N-1,num=N)\n",
        "  y = []\n",
        "  for s in range(N):\n",
        "    y += [ser5(s) - (1 / math.sqrt(3))]\n",
        "  plt.plot(x,y, 'o')\n",
        "  plt.show()\n",
        "  return"
      ],
      "metadata": {
        "id": "GXJ31g4tXwK5"
      },
      "execution_count": 64,
      "outputs": []
    },
    {
      "cell_type": "code",
      "source": [
        "ser5plot(1000)"
      ],
      "metadata": {
        "colab": {
          "base_uri": "https://localhost:8080/",
          "height": 265
        },
        "id": "V6-gD68YXzmV",
        "outputId": "eb0b23c3-e306-4854-d123-2763ac209d9d"
      },
      "execution_count": 65,
      "outputs": [
        {
          "output_type": "display_data",
          "data": {
            "image/png": "[encoded data removed]",
            "text/plain": [
              "<Figure size 432x288 with 1 Axes>"
            ]
          },
          "metadata": {
            "needs_background": "light"
          }
        }
      ]
    },
    {
      "cell_type": "code",
      "source": [
        "#looking at this series plots it does appear to converge to 0; however,\n",
        "#evaluating this series at higher and higher, N,\n",
        "#we see it converges to a value just below 0"
      ],
      "metadata": {
        "id": "kwQyICmZaoHg"
      },
      "execution_count": null,
      "outputs": []
    }
  ]
}